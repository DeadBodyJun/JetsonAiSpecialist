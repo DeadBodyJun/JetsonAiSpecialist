{
 "cells": [
  {
   "cell_type": "code",
   "execution_count": 1,
   "metadata": {},
   "outputs": [
    {
     "data": {
      "text/plain": [
       "'C:\\\\Users\\\\ASUS'"
      ]
     },
     "execution_count": 1,
     "metadata": {},
     "output_type": "execute_result"
    }
   ],
   "source": [
    "%pwd"
   ]
  },
  {
   "cell_type": "markdown",
   "metadata": {
    "colab_type": "text",
    "id": "view-in-github"
   },
   "source": [
    "<a href=\"https://colab.research.google.com/github/jylee2930/DB_Basic/blob/main/Yolov5_AI_Specialist.ipynb\" target=\"_parent\"><img src=\"https://colab.research.google.com/assets/colab-badge.svg\" alt=\"Open In Colab\"/></a>"
   ]
  },
  {
   "cell_type": "markdown",
   "metadata": {
    "id": "q2T_7RXuXMk3"
   },
   "source": [
    "# Yolo5 학습하기\n",
    "##1. 구글 드라이브 연동"
   ]
  },
  {
   "cell_type": "code",
   "execution_count": 2,
   "metadata": {
    "id": "PXogUGVQb-X_"
   },
   "outputs": [
    {
     "name": "stdout",
     "output_type": "stream",
     "text": [
      "C:\\Users\\ASUS\\Desktop\\AI\n"
     ]
    }
   ],
   "source": [
    "%cd C:\\Users\\ASUS\\Desktop\\AI"
   ]
  },
  {
   "cell_type": "code",
   "execution_count": 3,
   "metadata": {
    "id": "yBRVOaQbcBUH"
   },
   "outputs": [
    {
     "data": {
      "text/plain": [
       "'C:\\\\Users\\\\ASUS\\\\Desktop\\\\AI'"
      ]
     },
     "execution_count": 3,
     "metadata": {},
     "output_type": "execute_result"
    }
   ],
   "source": [
    "%pwd"
   ]
  },
  {
   "cell_type": "markdown",
   "metadata": {
    "id": "uqMISq3pdMFc"
   },
   "source": [
    "# 2. Yolov5 설치"
   ]
  },
  {
   "cell_type": "code",
   "execution_count": 4,
   "metadata": {
    "id": "4mR68g8Nc2Vs"
   },
   "outputs": [
    {
     "name": "stdout",
     "output_type": "stream",
     "text": [
      "C:\\Users\\ASUS\\Desktop\\AI\\yolov5\\yolov5\n"
     ]
    }
   ],
   "source": [
    "# 기존에 설치를 완료한 경우에는 해당 경로로 이동만 하면 됩니다.\n",
    "%cd C:\\Users\\ASUS\\Desktop\\AI\\yolov5\\yolov5"
   ]
  },
  {
   "cell_type": "code",
   "execution_count": 4,
   "metadata": {
    "id": "MeTRnP5Rdoc4"
   },
   "outputs": [
    {
     "name": "stdout",
     "output_type": "stream",
     "text": [
      "C:\\Users\\ASUS\\Desktop\\AI\\yolov5\n"
     ]
    },
    {
     "name": "stderr",
     "output_type": "stream",
     "text": [
      "Cloning into 'yolov5'...\n"
     ]
    },
    {
     "name": "stdout",
     "output_type": "stream",
     "text": [
      "Note: you may need to restart the kernel to use updated packages.\n"
     ]
    }
   ],
   "source": [
    "!git clone https://github.com/ultralytics/yolov5\n",
    "%cd C:\\Users\\ASUS\\Desktop\\AI\\yolov5\n",
    "%pip install -qr requirements.txt"
   ]
  },
  {
   "cell_type": "code",
   "execution_count": 22,
   "metadata": {
    "id": "qKn7oHQOel_0"
   },
   "outputs": [
    {
     "name": "stdout",
     "output_type": "stream",
     "text": [
      "Requirement already satisfied: Pillow==10.3 in c:\\users\\asus\\anaconda3\\lib\\site-packages (10.3.0)\n"
     ]
    }
   ],
   "source": [
    "!pip install Pillow==10.3"
   ]
  },
  {
   "cell_type": "markdown",
   "metadata": {
    "id": "V7hs6w4geYvo"
   },
   "source": [
    "#"
   ]
  },
  {
   "cell_type": "markdown",
   "metadata": {
    "id": "kG6i06Mde7T4"
   },
   "source": [
    "# 3. 이미지 파일 관리"
   ]
  },
  {
   "cell_type": "code",
   "execution_count": 13,
   "metadata": {
    "id": "_Qqy-G0hKZqc"
   },
   "outputs": [
    {
     "name": "stdout",
     "output_type": "stream",
     "text": [
      "Created validation set with 806 images\n"
     ]
    }
   ],
   "source": [
    "##검증 데이터 만들기\n",
    "import os\n",
    "import shutil\n",
    "from sklearn.model_selection import train_test_split\n",
    "\n",
    "def create_validation_set(train_path, val_path, split_ratio=0.3):\n",
    "    \"\"\"\n",
    "    Train 데이터의 일부를 Val로 이동\n",
    "    \"\"\"\n",
    "    # 필요한 디렉토리 생성\n",
    "    os.makedirs(os.path.join(val_path, 'images'), exist_ok=True)\n",
    "    os.makedirs(os.path.join(val_path, 'labels'), exist_ok=True)\n",
    "\n",
    "    # Train 이미지 리스트 가져오기\n",
    "    train_images = os.listdir(os.path.join(train_path, 'images'))\n",
    "    train_images = [f for f in train_images if f.endswith(('.jpg', '.jpeg', '.png'))]\n",
    "\n",
    "    # Train/Val 분할\n",
    "    _, val_images = train_test_split(train_images,\n",
    "                                   test_size=split_ratio,\n",
    "                                   random_state=42)\n",
    "\n",
    "    # Val로 파일 복사\n",
    "    for image_file in val_images:\n",
    "        # 이미지 복사\n",
    "        src_image = os.path.join(train_path, 'images', image_file)\n",
    "        dst_image = os.path.join(val_path, 'images', image_file)\n",
    "        shutil.copy2(src_image, dst_image)\n",
    "\n",
    "        # 라벨 파일 복사\n",
    "        label_file = os.path.splitext(image_file)[0] + '.txt'\n",
    "        src_label = os.path.join(train_path, 'labels', label_file)\n",
    "        dst_label = os.path.join(val_path, 'labels', label_file)\n",
    "        if os.path.exists(src_label):\n",
    "            shutil.copy2(src_label, dst_label)\n",
    "\n",
    "    print(f\"Created validation set with {len(val_images)} images\")\n",
    "\n",
    "# 실행\n",
    "train_path = 'C:\\\\Users\\\\ASUS\\\\Desktop\\\\AI\\\\yolov5\\\\yolov5\\\\Train'\n",
    "val_path = 'C:\\\\Users\\\\ASUS\\\\Desktop\\\\AI\\\\yolov5\\\\yolov5\\\\Val'\n",
    "\n",
    "create_validation_set(train_path, val_path)"
   ]
  },
  {
   "cell_type": "code",
   "execution_count": 14,
   "metadata": {
    "id": "UlUtCxWVKkNW"
   },
   "outputs": [
    {
     "name": "stdout",
     "output_type": "stream",
     "text": [
      "Dataset status:\n",
      "Train - Images: 2684, Labels: 2684\n",
      "Val - Images: 806, Labels: 806\n"
     ]
    }
   ],
   "source": [
    "def check_dataset():\n",
    "    train_path = 'C:\\\\Users\\\\ASUS\\\\Desktop\\\\AI\\\\yolov5\\\\yolov5\\\\Train'\n",
    "    val_path = 'C:\\\\Users\\\\ASUS\\\\Desktop\\\\AI\\\\yolov5\\\\yolov5\\\\Val'\n",
    "\n",
    "    # Train 데이터 확인\n",
    "    train_images = len(os.listdir(os.path.join(train_path, 'images')))\n",
    "    train_labels = len(os.listdir(os.path.join(train_path, 'labels')))\n",
    "\n",
    "    # Val 데이터 확인\n",
    "    val_images = len(os.listdir(os.path.join(val_path, 'images')))\n",
    "    val_labels = len(os.listdir(os.path.join(val_path, 'labels')))\n",
    "\n",
    "    print(\"Dataset status:\")\n",
    "    print(f\"Train - Images: {train_images}, Labels: {train_labels}\")\n",
    "    print(f\"Val - Images: {val_images}, Labels: {val_labels}\")\n",
    "\n",
    "# 데이터셋 상태 확인\n",
    "check_dataset()"
   ]
  },
  {
   "cell_type": "markdown",
   "metadata": {
    "id": "TXUrmEC8fHUc"
   },
   "source": [
    "# 4. 학습시작"
   ]
  },
  {
   "cell_type": "code",
   "execution_count": 15,
   "metadata": {
    "id": "RSPNJnbZfGg0"
   },
   "outputs": [],
   "source": [
    "import torch\n",
    "import os\n",
    "from IPython.display import Image, clear_output  # to display images"
   ]
  },
  {
   "cell_type": "code",
   "execution_count": 16,
   "metadata": {
    "id": "h0tBhp5tmBQp"
   },
   "outputs": [
    {
     "data": {
      "text/plain": [
       "'C:\\\\Users\\\\ASUS\\\\Desktop\\\\AI\\\\yolov5\\\\yolov5'"
      ]
     },
     "execution_count": 16,
     "metadata": {},
     "output_type": "execute_result"
    }
   ],
   "source": [
    "%pwd"
   ]
  },
  {
   "cell_type": "code",
   "execution_count": 17,
   "metadata": {
    "id": "ouHOctaZfRHj"
   },
   "outputs": [],
   "source": [
    "\n",
    "import numpy as np\n",
    "import tensorflow as tf\n",
    "import os\n",
    "from PIL import Image\n",
    "from tensorflow.python.eager.context import eager_mode\n",
    "\n",
    "def _preproc(image, output_height=512, output_width=512, resize_side=512):\n",
    "    ''' imagenet-standard: aspect-preserving resize to 256px smaller-side, then central-crop to 224px'''\n",
    "    with eager_mode():\n",
    "        h, w = image.shape[0], image.shape[1]\n",
    "        scale = tf.cond(tf.less(h, w), lambda: resize_side / h, lambda: resize_side / w)\n",
    "        resized_image = tf.compat.v1.image.resize_bilinear(tf.expand_dims(image, 0), [int(h*scale), int(w*scale)])\n",
    "        cropped_image = tf.compat.v1.image.resize_with_crop_or_pad(resized_image, output_height, output_width)\n",
    "        return tf.squeeze(cropped_image)\n",
    "\n",
    "def Create_npy(imagespath, imgsize, ext) :\n",
    "    images_list = [img_name for img_name in os.listdir(imagespath) if\n",
    "                os.path.splitext(img_name)[1].lower() == '.'+ext.lower()]\n",
    "    calib_dataset = np.zeros((len(images_list), imgsize, imgsize, 3), dtype=np.float32)\n",
    "\n",
    "    for idx, img_name in enumerate(sorted(images_list)):\n",
    "        img_path = os.path.join(imagespath, img_name)\n",
    "        try:\n",
    "            # 파일 크기가 정상적인지 확인\n",
    "            if os.path.getsize(img_path) == 0:\n",
    "                print(f\"Error: {img_path} is empty.\")\n",
    "                continue\n",
    "\n",
    "            img = Image.open(img_path)\n",
    "            img = img.convert(\"RGB\")  # RGBA 이미지 등 다른 형식이 있을 경우 강제로 RGB로 변환\n",
    "            img_np = np.array(img)\n",
    "\n",
    "            img_preproc = _preproc(img_np, imgsize, imgsize, imgsize)\n",
    "            calib_dataset[idx,:,:,:] = img_preproc.numpy().astype(np.uint8)\n",
    "            print(f\"Processed image {img_path}\")\n",
    "\n",
    "        except Exception as e:\n",
    "            print(f\"Error processing image {img_path}: {e}\")\n",
    "\n",
    "    np.save('calib_set.npy', calib_dataset)\n"
   ]
  },
  {
   "cell_type": "code",
   "execution_count": 18,
   "metadata": {
    "id": "y_p0-k-TfUpY"
   },
   "outputs": [],
   "source": [
    "Create_npy('C:\\\\Users\\\\ASUS\\\\Desktop\\\\AI\\\\yolov5\\\\yolov5\\\\Train\\\\images', 512, 'jpg')"
   ]
  },
  {
   "cell_type": "code",
   "execution_count": 28,
   "metadata": {
    "id": "Vs-AKm1YgA_r"
   },
   "outputs": [
    {
     "ename": "SyntaxError",
     "evalue": "invalid syntax (2054092675.py, line 1)",
     "output_type": "error",
     "traceback": [
      "\u001b[1;36m  Cell \u001b[1;32mIn[28], line 1\u001b[1;36m\u001b[0m\n\u001b[1;33m    python \"C:\\\\Users\\\\ASUS\\\\Desktop\\\\AI\\\\yolov5\\\\yolov5\\\\train.py\"  --img 512 --batch 16 --epochs 300 --data C:\\Users\\ASUS\\Desktop\\AI\\yolov5\\yolov5\\data.yaml --weights yolov5n.pt --cache\u001b[0m\n\u001b[1;37m           ^\u001b[0m\n\u001b[1;31mSyntaxError\u001b[0m\u001b[1;31m:\u001b[0m invalid syntax\n"
     ]
    }
   ],
   "source": [
    "python \"C:\\\\Users\\\\ASUS\\\\Desktop\\\\AI\\\\yolov5\\\\yolov5\\\\train.py\"  --img 512 --batch 16 --epochs 300 --data C:\\Users\\ASUS\\Desktop\\AI\\yolov5\\yolov5\\data.yaml --weights yolov5n.pt --cache"
   ]
  },
  {
   "cell_type": "code",
   "execution_count": 19,
   "metadata": {},
   "outputs": [],
   "source": [
    "from torch.utils.tensorboard import SummaryWriter\n",
    "\n",
    "writer = SummaryWriter(\"runs/experiment1\")  # logdir에 이벤트 파일을 저장\n",
    "# 임의의 예제 데이터를 추가 (예: 손실 값 기록)\n",
    "for i in range(100):\n",
    "    writer.add_scalar(\"Loss/train\", 0.1 * i, i)\n",
    "writer.close()\n"
   ]
  },
  {
   "cell_type": "code",
   "execution_count": 20,
   "metadata": {
    "id": "qwJiXyljgul0",
    "scrolled": true
   },
   "outputs": [
    {
     "data": {
      "text/html": [
       "\n",
       "      <iframe id=\"tensorboard-frame-d2ad0975eb7d9b\" width=\"100%\" height=\"800\" frameborder=\"0\">\n",
       "      </iframe>\n",
       "      <script>\n",
       "        (function() {\n",
       "          const frame = document.getElementById(\"tensorboard-frame-d2ad0975eb7d9b\");\n",
       "          const url = new URL(\"/\", window.location);\n",
       "          const port = 6006;\n",
       "          if (port) {\n",
       "            url.port = port;\n",
       "          }\n",
       "          frame.src = url;\n",
       "        })();\n",
       "      </script>\n",
       "    "
      ],
      "text/plain": [
       "<IPython.core.display.HTML object>"
      ]
     },
     "metadata": {},
     "output_type": "display_data"
    }
   ],
   "source": [
    "%load_ext tensorboard\n",
    "%tensorboard --logdir runs\n"
   ]
  },
  {
   "cell_type": "code",
   "execution_count": 21,
   "metadata": {
    "scrolled": true
   },
   "outputs": [
    {
     "name": "stdout",
     "output_type": "stream",
     "text": [
      "The tensorboard extension is already loaded. To reload it, use:\n",
      "  %reload_ext tensorboard\n"
     ]
    },
    {
     "data": {
      "text/html": [
       "\n",
       "      <iframe id=\"tensorboard-frame-fe39733c5f5b6e4d\" width=\"100%\" height=\"800\" frameborder=\"0\">\n",
       "      </iframe>\n",
       "      <script>\n",
       "        (function() {\n",
       "          const frame = document.getElementById(\"tensorboard-frame-fe39733c5f5b6e4d\");\n",
       "          const url = new URL(\"/\", window.location);\n",
       "          const port = 6007;\n",
       "          if (port) {\n",
       "            url.port = port;\n",
       "          }\n",
       "          frame.src = url;\n",
       "        })();\n",
       "      </script>\n",
       "    "
      ],
      "text/plain": [
       "<IPython.core.display.HTML object>"
      ]
     },
     "metadata": {},
     "output_type": "display_data"
    }
   ],
   "source": [
    "%load_ext tensorboard\n",
    "%tensorboard --logdir \"C:/Users/ASUS/Desktop/AI/yolov5/yolov5/runs/train/exp23\""
   ]
  },
  {
   "cell_type": "code",
   "execution_count": 22,
   "metadata": {
    "id": "meg9huXng6to"
   },
   "outputs": [
    {
     "ename": "ImportError",
     "evalue": "cannot import name 'displa' from 'IPython.display' (C:\\Users\\ASUS\\anaconda3\\Lib\\site-packages\\IPython\\display.py)",
     "output_type": "error",
     "traceback": [
      "\u001b[1;31m---------------------------------------------------------------------------\u001b[0m",
      "\u001b[1;31mImportError\u001b[0m                               Traceback (most recent call last)",
      "Cell \u001b[1;32mIn[22], line 2\u001b[0m\n\u001b[0;32m      1\u001b[0m \u001b[38;5;28;01mimport\u001b[39;00m \u001b[38;5;21;01mglob\u001b[39;00m\n\u001b[1;32m----> 2\u001b[0m \u001b[38;5;28;01mfrom\u001b[39;00m \u001b[38;5;21;01mIPython\u001b[39;00m\u001b[38;5;21;01m.\u001b[39;00m\u001b[38;5;21;01mdisplay\u001b[39;00m \u001b[38;5;28;01mimport\u001b[39;00m Image, displa\n\u001b[0;32m      4\u001b[0m \u001b[38;5;28;01mfor\u001b[39;00m imageName \u001b[38;5;129;01min\u001b[39;00m glob\u001b[38;5;241m.\u001b[39mglob(\u001b[38;5;124m'\u001b[39m\u001b[38;5;124mC:/Users/ASUS/Desktop/AI/yolov5/yolov5/runs/train/exp23*.jpg\u001b[39m\u001b[38;5;124m'\u001b[39m)[:\u001b[38;5;241m10\u001b[39m]:\n\u001b[0;32m      5\u001b[0m     display(Image(filename\u001b[38;5;241m=\u001b[39mimageName))\n",
      "\u001b[1;31mImportError\u001b[0m: cannot import name 'displa' from 'IPython.display' (C:\\Users\\ASUS\\anaconda3\\Lib\\site-packages\\IPython\\display.py)"
     ]
    }
   ],
   "source": [
    "import glob\n",
    "from IPython.display import Image, displa\n",
    "\n",
    "for imageName in glob.glob('C:/Users/ASUS/Desktop/AI/yolov5/yolov5/runs/train/exp23*.jpg')[:10]:\n",
    "    display(Image(filename=imageName))\n",
    "    print(\"\\n\")"
   ]
  },
  {
   "cell_type": "code",
   "execution_count": 2,
   "metadata": {
    "id": "LPLTdYMBg0jz"
   },
   "outputs": [
    {
     "name": "stderr",
     "output_type": "stream",
     "text": [
      "python: can't open file 'C:\\\\Users\\\\ASUS\\\\detect.py': [Errno 2] No such file or directory\n"
     ]
    }
   ],
   "source": [
    "!python detect.py --weights C:\\\\Users\\\\ASUS\\\\Desktop\\\\AI\\\\yolov5\\\\yolov5\\\\runs\\\\train\\\\exp23\\\\weights\\\\best.pt --img 512 --conf 0.1 --source C:\\\\Users\\\\ASUS\\\\Desktop\\\\AI\\\\yolov5\\\\yolov5\\\\images"
   ]
  },
  {
   "cell_type": "code",
   "execution_count": null,
   "metadata": {},
   "outputs": [],
   "source": []
  },
  {
   "cell_type": "code",
   "execution_count": null,
   "metadata": {},
   "outputs": [],
   "source": []
  },
  {
   "cell_type": "code",
   "execution_count": null,
   "metadata": {},
   "outputs": [],
   "source": []
  }
 ],
 "metadata": {
  "accelerator": "GPU",
  "colab": {
   "authorship_tag": "ABX9TyPXBfkZcLh7iKupK/fdYGyq",
   "gpuType": "L4",
   "include_colab_link": true,
   "machine_shape": "hm",
   "private_outputs": true,
   "provenance": []
  },
  "kernelspec": {
   "display_name": "Python 3 (ipykernel)",
   "language": "python",
   "name": "python3"
  },
  "language_info": {
   "codemirror_mode": {
    "name": "ipython",
    "version": 3
   },
   "file_extension": ".py",
   "mimetype": "text/x-python",
   "name": "python",
   "nbconvert_exporter": "python",
   "pygments_lexer": "ipython3",
   "version": "3.12.3"
  }
 },
 "nbformat": 4,
 "nbformat_minor": 4
}
